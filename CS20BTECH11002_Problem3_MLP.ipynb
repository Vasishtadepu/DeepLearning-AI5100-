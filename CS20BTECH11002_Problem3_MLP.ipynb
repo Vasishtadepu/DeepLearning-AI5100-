{
  "nbformat": 4,
  "nbformat_minor": 0,
  "metadata": {
    "colab": {
      "provenance": []
    },
    "kernelspec": {
      "name": "python3",
      "display_name": "Python 3"
    },
    "language_info": {
      "name": "python"
    }
  },
  "cells": [
    {
      "cell_type": "code",
      "execution_count": 30,
      "metadata": {
        "id": "nK_qpJVl6M9o"
      },
      "outputs": [],
      "source": [
        "#importing required modules\n",
        "import torch\n",
        "import numpy as np\n",
        "import matplotlib.pyplot as plt\n",
        "from sklearn.model_selection import train_test_split"
      ]
    },
    {
      "cell_type": "markdown",
      "source": [
        "#Activation and Loss Function\n"
      ],
      "metadata": {
        "id": "A6PghcVOUOQv"
      }
    },
    {
      "cell_type": "code",
      "source": [
        "#writing our activation function\n",
        "def sigmoid(x):\n",
        "  return 1/(1+torch.exp(-x))\n",
        "\n",
        "#sigmoid deriv function to make cleaner code.\n",
        "def sigmoid_deriv(x):\n",
        "  return torch.exp(-x)/((1+torch.exp(-x))**2)\n",
        "\n",
        "\n",
        "#writing our loss function\n",
        "def loss(y_pred,y):\n",
        "  return (y_pred-y)**4"
      ],
      "metadata": {
        "id": "rpjeTgjTTo8j"
      },
      "execution_count": 31,
      "outputs": []
    },
    {
      "cell_type": "markdown",
      "source": [
        "#Backpropagation Function\n",
        "###We recursievly find the gradient and return the 4 gradients we require."
      ],
      "metadata": {
        "id": "1DyiekvYURgf"
      }
    },
    {
      "cell_type": "code",
      "execution_count": 32,
      "metadata": {
        "id": "XP6wXwaMgzLV"
      },
      "outputs": [],
      "source": [
        "#writing our back propogation function\n",
        "def back_propagation(W1,W2,x1,x2,s1,s2,y,b1,b2,x0):\n",
        "\n",
        "  #The below two tensors would help us calculate the local gradeint.\n",
        "  #General notation da = dL/da where a is a paramter \n",
        "  z1 = torch.zeros(W1.size(1), W1.size(1))\n",
        "  z2 = torch.zeros(W2.size(1),W2.size(1))\n",
        "\n",
        "  for i in range(W1.size(1)):\n",
        "    z1[i][i] = sigmoid_deriv(s1)[i][0]\n",
        "  \n",
        "  for i in range(W2.size(1)):\n",
        "    z2[i][i] = sigmoid_deriv(s2)\n",
        "\n",
        "\n",
        "  dx2 = 40*((x2-y)**3)\n",
        "  ds2 = z2 @ dx2\n",
        "  dw2 = x1 @ torch.transpose(ds2,0,1)\n",
        "  db2 = ds2\n",
        "\n",
        "  dx1 = W2 @ ds2\n",
        "  ds1 = z1 @ dx1\n",
        "  dw1 = x0 @ torch.transpose(ds1,0,1)\n",
        "  db1 = ds1\n",
        "\n",
        "\n",
        "  return dw2, db2, dw1, db1"
      ]
    },
    {
      "cell_type": "markdown",
      "source": [
        "#Generating concetric circular data which are not linearly seperable."
      ],
      "metadata": {
        "id": "l7vNKdJNV2LC"
      }
    },
    {
      "cell_type": "code",
      "source": [
        "\n",
        "r = np.random.uniform([[4.5], [9.5]], [[6], [12]], size=(2, 1000))\n",
        "angle = np.linspace(0, 2 * np.pi , 1000 )\n",
        "\n",
        "X = [r[0] * np.cos(angle), r[1] * np.cos(angle)]\n",
        "Y = [r[0] * np.sin(angle), r[1] * np.sin(angle)]\n",
        "\n",
        "D1 = torch.empty(1000,2).fill_(1)\n",
        "D2 = torch.empty(1000,2).fill_(1)\n",
        "\n",
        "Xcopy = torch.transpose(torch.tensor(X),0,1)\n",
        "Ycopy = torch.transpose(torch.tensor(Y),0,1)\n",
        "\n",
        "D1[:,0] = Xcopy[:,0]\n",
        "D1[:,1] = Ycopy[:,0]\n",
        "\n",
        "D2[:,0] = Xcopy[:,1]\n",
        "D2[:,1] = Ycopy[:,1]\n",
        "\n",
        "\n",
        "plt.scatter(D1[:,0],D1[:,1])\n",
        "plt.scatter(D2[:,0],D2[:,1])\n",
        "plt.show()"
      ],
      "metadata": {
        "colab": {
          "base_uri": "https://localhost:8080/",
          "height": 265
        },
        "id": "OeiHqjfd6_Gb",
        "outputId": "f3dfb4d2-8c6b-41de-bf3b-93c18305c1fa"
      },
      "execution_count": 33,
      "outputs": [
        {
          "output_type": "display_data",
          "data": {
            "text/plain": [
              "<Figure size 432x288 with 1 Axes>"
            ],
            "image/png": "[encoded data removed]"
          },
          "metadata": {
            "needs_background": "light"
          }
        }
      ]
    },
    {
      "cell_type": "markdown",
      "source": [
        "#Combining them into a single set.\n",
        "###We use sklearn to split our data into training and testing."
      ],
      "metadata": {
        "id": "T6c88IY1V-GK"
      }
    },
    {
      "cell_type": "code",
      "source": [
        "#Adding the extra dimension to data to take care of bias\n",
        "X = torch.empty(2000,D1.size(1)).fill_(1)\n",
        "X[::2,:2] = D1\n",
        "X[1::2,:2] = D2\n",
        "\n",
        "#Creating the labels\n",
        "Y = torch.empty(2000,1)\n",
        "Y[::2,:2] = 1\n",
        "Y[1::2,:2] = 0\n",
        "\n",
        "X_train,X_test,Y_train,Y_test = train_test_split(X,Y,random_state = 123, test_size = 0.5, shuffle = True) "
      ],
      "metadata": {
        "id": "KTOuEvOG9uEv"
      },
      "execution_count": 34,
      "outputs": []
    },
    {
      "cell_type": "markdown",
      "source": [
        "#Our MLP_train function.\n",
        "###This is the function which performs actual training.\n",
        "Here we use the sigmoid function at two layers to get the output and we calculate gradient at each sample and take average of them and update our weights with it after every epoch unlike SGD which was done in problem 2."
      ],
      "metadata": {
        "id": "EAh_N4NWWOYJ"
      }
    },
    {
      "cell_type": "code",
      "source": [
        "def MLP_train(X,y,dim_hidden_layer,W1,W2,b1,b2,n_iters,learning_rate,loss3):\n",
        "  for _ in range(n_iters):\n",
        "    Dw1 = []\n",
        "    Dw2 = []\n",
        "    Db1 = []\n",
        "    Db2 = []\n",
        "    if(_ > 0 and _%50 == 0):\n",
        "      print(\"The loss after {value1}th epoch is {value2}\".format(value1 = _,value2 = loss1/1000))\n",
        "      loss3.append(loss1/1000)\n",
        "    loss1 = 0\n",
        "    for idx, x_i in enumerate(X):\n",
        "      #first we transpose our input matrix into a coloumn vector\n",
        "      x0 = x_i.reshape(2,1)\n",
        "\n",
        "      #Calculating the transpose of our weight matrix so we can apply forward pass\n",
        "      W1copy = torch.transpose(W1,0,1)\n",
        "      W2copy = torch.transpose(W2,0,1)\n",
        "\n",
        "      #Forwards pass form input layer to hidden layer\n",
        "      s1 = W1copy @ x0 + b1\n",
        "      x1 = sigmoid(s1)\n",
        "\n",
        "      #Forward pass from hidden layer to output layer\n",
        "      s2 = W2copy @ x1 + b2\n",
        "      x2 = sigmoid(s2)\n",
        "\n",
        "      #Finding Gradients by applying backpropagation\n",
        "      dw2,db2,dw1,db1 = back_propagation(W1,W2,x1,x2,s1,s2,y[idx],b1,b2,x0)\n",
        "      Dw1.append(dw1)\n",
        "      Dw2.append(dw2)\n",
        "      Db1.append(db1)\n",
        "      Db2.append(db2)\n",
        "\n",
        "      #Calculating losses\n",
        "      loss1 += loss(x2,y[idx]).item()\n",
        "\n",
        "    W2 = W2 - learning_rate*(torch.mean(torch.stack(Dw2), dim=0))\n",
        "    W1 = W1 - learning_rate*(torch.mean(torch.stack(Dw1), dim=0))\n",
        "    b2 = b2 - learning_rate*(torch.mean(torch.stack(Db2), dim=0))\n",
        "    b1 = b1 - learning_rate*(torch.mean(torch.stack(Db1), dim=0))\n",
        "\n",
        "    \n",
        "  return W1,W2,b1,b2,loss3\n"
      ],
      "metadata": {
        "id": "-Dp-S7KJ-e7Y"
      },
      "execution_count": 35,
      "outputs": []
    },
    {
      "cell_type": "markdown",
      "source": [
        "#Parameter Initializtion"
      ],
      "metadata": {
        "id": "htUsOVUsWWcu"
      }
    },
    {
      "cell_type": "code",
      "source": [
        "dim_input_layer  = 2\n",
        "dim_hidden_layer = 10\n",
        "dim_output_layer = 1 \n",
        "W1 = torch.rand(dim_input_layer,dim_hidden_layer)\n",
        "W2 = torch.rand(dim_hidden_layer,dim_output_layer)\n",
        "b1 = torch.zeros(dim_hidden_layer,1)\n",
        "b2 = 0\n",
        "n_iters = 1000\n",
        "learning_rate = 0.1\n",
        "loss3 = []"
      ],
      "metadata": {
        "id": "Tfqm598Z-tmJ"
      },
      "execution_count": 36,
      "outputs": []
    },
    {
      "cell_type": "markdown",
      "source": [
        "#Main call to our MLP_train function."
      ],
      "metadata": {
        "id": "L-L9fizJWgpJ"
      }
    },
    {
      "cell_type": "code",
      "source": [
        "W1,W2,b1,b2,loss3= MLP_train(X_train,Y_train,dim_hidden_layer,W1,W2,b1,b2,n_iters,learning_rate,loss3)"
      ],
      "metadata": {
        "colab": {
          "base_uri": "https://localhost:8080/"
        },
        "id": "0wcuHH5DWfEc",
        "outputId": "3da5b3db-d86c-4605-eefa-e23d6fd75bb9"
      },
      "execution_count": 37,
      "outputs": [
        {
          "output_type": "stream",
          "name": "stdout",
          "text": [
            "The loss after 50th epoch is 0.06255580281093717\n",
            "The loss after 100th epoch is 0.062001611340790984\n",
            "The loss after 150th epoch is 0.061555426128208635\n",
            "The loss after 200th epoch is 0.06102492755651474\n",
            "The loss after 250th epoch is 0.060269949603825805\n",
            "The loss after 300th epoch is 0.05909554020687938\n",
            "The loss after 350th epoch is 0.05734791824966669\n",
            "The loss after 400th epoch is 0.05498695141077042\n",
            "The loss after 450th epoch is 0.05187851436063647\n",
            "The loss after 500th epoch is 0.048099301636219026\n",
            "The loss after 550th epoch is 0.043961536556482314\n",
            "The loss after 600th epoch is 0.039625258659943936\n",
            "The loss after 650th epoch is 0.035294041238725184\n",
            "The loss after 700th epoch is 0.03116451131924987\n",
            "The loss after 750th epoch is 0.027370037247426808\n",
            "The loss after 800th epoch is 0.023993813788052647\n",
            "The loss after 850th epoch is 0.02105958385579288\n",
            "The loss after 900th epoch is 0.018546692639356478\n",
            "The loss after 950th epoch is 0.016410332158906384\n"
          ]
        }
      ]
    },
    {
      "cell_type": "markdown",
      "source": [
        "#Graph of Loss vs Number of Iterations\n"
      ],
      "metadata": {
        "id": "s1mYtQoXfZmq"
      }
    },
    {
      "cell_type": "code",
      "source": [
        "xgraph = np.arange(0,n_iters-50,50)\n",
        "plt.plot(xgraph, loss3, '-r')\n",
        "plt.xlabel('no of iterations')\n",
        "plt.ylabel('Loss')\n",
        "plt.title('Graph of Loss vs no of iterations')\n",
        "plt.show()"
      ],
      "metadata": {
        "colab": {
          "base_uri": "https://localhost:8080/",
          "height": 295
        },
        "id": "Xa99e8tLcMHX",
        "outputId": "7492e39a-0d9c-4c81-8d66-77285fdb201e"
      },
      "execution_count": 47,
      "outputs": [
        {
          "output_type": "display_data",
          "data": {
            "text/plain": [
              "<Figure size 432x288 with 1 Axes>"
            ],
            "image/png": "[encoded data removed]"
          },
          "metadata": {
            "needs_background": "light"
          }
        }
      ]
    },
    {
      "cell_type": "markdown",
      "source": [
        "#Printing our weights and Biases."
      ],
      "metadata": {
        "id": "_L-qOvDHZS7k"
      }
    },
    {
      "cell_type": "code",
      "source": [
        "print(\"Weight matrix W1 = {value}\".format(value = W1))\n",
        "print(\"Bias matrix b1 = {value}\".format(value = b1))\n",
        "print(\"Weight matrix W2 = {value}\".format(value = W1))\n",
        "print(\"Bias b2 = {value}\".format(value = b2))"
      ],
      "metadata": {
        "colab": {
          "base_uri": "https://localhost:8080/"
        },
        "id": "hfsJJIJiYzo6",
        "outputId": "73a3ffa2-a433-4610-c054-c7180519d2ad"
      },
      "execution_count": 45,
      "outputs": [
        {
          "output_type": "stream",
          "name": "stdout",
          "text": [
            "Weight matrix W1 = tensor([[-0.2243,  0.4423, -0.0621,  0.6807,  0.2226,  0.2878,  0.4416,  0.3696,\n",
            "          0.1842,  0.4241],\n",
            "        [ 0.3656, -0.0785,  0.4849,  0.6644,  0.8981,  0.3470,  0.5622,  0.2753,\n",
            "          0.5953, -0.1067]])\n",
            "Bias matrix b1 = tensor([[ 1.5765],\n",
            "        [-1.9212],\n",
            "        [-2.4509],\n",
            "        [-0.5823],\n",
            "        [ 0.1835],\n",
            "        [ 1.3463],\n",
            "        [ 0.2761],\n",
            "        [ 1.7031],\n",
            "        [-0.0826],\n",
            "        [ 1.1859]])\n",
            "Weight matrix W2 = tensor([[-0.2243,  0.4423, -0.0621,  0.6807,  0.2226,  0.2878,  0.4416,  0.3696,\n",
            "          0.1842,  0.4241],\n",
            "        [ 0.3656, -0.0785,  0.4849,  0.6644,  0.8981,  0.3470,  0.5622,  0.2753,\n",
            "          0.5953, -0.1067]])\n",
            "Bias b2 = tensor([[-1.6917]])\n"
          ]
        }
      ]
    },
    {
      "cell_type": "markdown",
      "source": [
        "#Function to check and print our accuracy."
      ],
      "metadata": {
        "id": "_5a-Gd12VnPI"
      }
    },
    {
      "cell_type": "code",
      "source": [
        "def check_accuracy(W1,W2,b1,b2, X, y):\n",
        "  correct = 0\n",
        "  total = 0\n",
        "  for idx, x_i in enumerate(X):\n",
        "      x0 = x_i.reshape(2,1)\n",
        "\n",
        "      W1copy = torch.transpose(W1,0,1)\n",
        "      W2copy = torch.transpose(W2,0,1)\n",
        "\n",
        "      s1 = W1copy @ x0 + b1\n",
        "      x1 = sigmoid(s1)\n",
        "\n",
        "      s2 = W2copy @ x1 + b2\n",
        "      x2 = sigmoid(s2)\n",
        "\n",
        "      y_pred = 0\n",
        "      if(x2.item() > 0.5):\n",
        "        y_pred = 1\n",
        "      if(y_pred == y[idx]):\n",
        "        correct += 1\n",
        "      total += 1\n",
        "  return correct/total\n",
        "print(\"Accuracy = {value}\".format(value=check_accuracy(W1,W2,b1,b2,X_test,Y_test)))"
      ],
      "metadata": {
        "id": "Lb_slWYZ-1Fd",
        "colab": {
          "base_uri": "https://localhost:8080/"
        },
        "outputId": "bd99edc1-f1ae-4dfa-f175-195c43a3470e"
      },
      "execution_count": 46,
      "outputs": [
        {
          "output_type": "stream",
          "name": "stdout",
          "text": [
            "Accuracy = 1.0\n"
          ]
        }
      ]
    }
  ]
}