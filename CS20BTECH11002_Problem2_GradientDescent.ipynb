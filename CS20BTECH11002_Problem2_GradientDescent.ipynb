{
  "nbformat": 4,
  "nbformat_minor": 0,
  "metadata": {
    "colab": {
      "provenance": []
    },
    "kernelspec": {
      "name": "python3",
      "display_name": "Python 3"
    },
    "language_info": {
      "name": "python"
    }
  },
  "cells": [
    {
      "cell_type": "code",
      "execution_count": 89,
      "metadata": {
        "id": "nK_qpJVl6M9o"
      },
      "outputs": [],
      "source": [
        "#inporting required modules\n",
        "import torch\n",
        "import numpy as np\n",
        "import matplotlib.pyplot as plt"
      ]
    },
    {
      "cell_type": "markdown",
      "source": [
        "#Activation Function\n",
        "###We used sigmoid as our activation function i.e to make sure that our perceptron holds a value between 0 and 1"
      ],
      "metadata": {
        "id": "jXGymD1KRRE0"
      }
    },
    {
      "cell_type": "code",
      "execution_count": 90,
      "metadata": {
        "id": "XP6wXwaMgzLV"
      },
      "outputs": [],
      "source": [
        "#writing our activation function\n",
        "def sigmoid(x):\n",
        "  return 1/(1+torch.exp(-x))\n",
        "\n",
        "#Writing a function which helps us calculate gradient\n",
        "def gradient(x1,s1,y):\n",
        "  return 4 * ((x1-y)**3) * (torch.exp(-x1)/(1+torch.exp(-x1))**2)"
      ]
    },
    {
      "cell_type": "markdown",
      "source": [
        "#DataSet generation\n",
        "###We use a similar to method to generate our data as used in problem 1"
      ],
      "metadata": {
        "id": "RibE8_q4RZ2_"
      }
    },
    {
      "cell_type": "code",
      "source": [
        "D1 = torch.empty(500,2).fill_(1)\n",
        "D2 = torch.empty(500,2).fill_(1)\n",
        "\n",
        "gamma = 20 ##Measure of Linear separatibilty\n",
        "\n",
        "D3 = torch.FloatTensor(500,1).uniform_(1,20)\n",
        "D4 = torch.FloatTensor(500,1).uniform_(1,20)\n",
        "Y3 = 2.5*D3 + 0\n",
        "Y4 = 2.5*D4 + gamma\n",
        "Y3 = Y3 + torch.FloatTensor(500,1).uniform_(-4,2)\n",
        "Y4  =Y4 + torch.FloatTensor(500,1).uniform_(-1,5)\n",
        "\n",
        "D1[:,0] = D3[:,0]\n",
        "D1[:,1] = Y3[:,0]\n",
        "\n",
        "D2[:,0] = D4[:,0]\n",
        "D2[:,1] = Y4[:,0]\n",
        "\n",
        "plt.scatter(D3[:,0],Y3[:,0])\n",
        "plt.scatter(D4[:,0],Y4[:,0])\n",
        "plt.show()"
      ],
      "metadata": {
        "colab": {
          "base_uri": "https://localhost:8080/",
          "height": 265
        },
        "id": "OeiHqjfd6_Gb",
        "outputId": "0aaaa674-cc60-4d4e-b870-fe87d2b0e3ab"
      },
      "execution_count": 91,
      "outputs": [
        {
          "output_type": "display_data",
          "data": {
            "text/plain": [
              "<Figure size 432x288 with 1 Axes>"
            ],
            "image/png": "[encoded data removed]"
          },
          "metadata": {
            "needs_background": "light"
          }
        }
      ]
    },
    {
      "cell_type": "markdown",
      "source": [
        "###We combine the two datasets and  add bias here to the weight itself like in problem 1"
      ],
      "metadata": {
        "id": "Hs4fIqHkRhbB"
      }
    },
    {
      "cell_type": "code",
      "source": [
        "#Adding the extra dimension to data to take care of bias\n",
        "X = torch.empty(1000,D1.size(1)+1).fill_(1)\n",
        "X[::2,:2] = D1\n",
        "X[1::2,:2] = D2\n",
        "\n",
        "#Creating the labels\n",
        "Y = torch.empty(1000,1)\n",
        "Y[::2,:2] = 1\n",
        "Y[1::2,:2] = 0"
      ],
      "metadata": {
        "id": "KTOuEvOG9uEv"
      },
      "execution_count": 92,
      "outputs": []
    },
    {
      "cell_type": "markdown",
      "source": [
        "#Drawing graph with classifier before training."
      ],
      "metadata": {
        "id": "FsXPrXkdYqCW"
      }
    },
    {
      "cell_type": "code",
      "source": [
        "x = np.linspace(1,20,100)\n",
        "y = np.zeros(100,) \n",
        "plt.plot(x, y, '-r', label='W')\n",
        "plt.title('Graph of W before training')\n",
        "plt.xlabel('x', color='#1C2833')\n",
        "plt.ylabel('y', color='#1C2833')\n",
        "plt.legend(loc='upper left')\n",
        "plt.scatter(D1[:,0], D1[:,1])\n",
        "plt.scatter(D2[:,0], D2[:,1])\n",
        "plt.grid()\n",
        "plt.show()"
      ],
      "metadata": {
        "colab": {
          "base_uri": "https://localhost:8080/",
          "height": 295
        },
        "id": "WUsWO8p0_KWU",
        "outputId": "73b596f7-02d1-4664-e7fd-bbca77b91854"
      },
      "execution_count": 93,
      "outputs": [
        {
          "output_type": "display_data",
          "data": {
            "text/plain": [
              "<Figure size 432x288 with 1 Axes>"
            ],
            "image/png": "[encoded data removed]"
          },
          "metadata": {
            "needs_background": "light"
          }
        }
      ]
    },
    {
      "cell_type": "markdown",
      "source": [
        "#Perceptron training function\n",
        "###Here we use Stochastic Gradient Descent to update the weights and biases."
      ],
      "metadata": {
        "id": "2dYeKGHxRpDQ"
      }
    },
    {
      "cell_type": "code",
      "source": [
        "def train_perceptron(W,n_iters,learning_rate,X,y):\n",
        "  iters = 0\n",
        "  for _ in range(n_iters):\n",
        "    number_of_changes = 0\n",
        "    for idx, x_i in enumerate(X):\n",
        "      s1 = x_i.dot(W)\n",
        "      x1 = sigmoid(s1)\n",
        "      \n",
        "      #perceptron update\n",
        "      gradient2 = gradient(x1,s1,y[idx])\n",
        "      W = W - (learning_rate)*gradient2*x_i\n",
        "\n",
        "  return W"
      ],
      "metadata": {
        "id": "-Dp-S7KJ-e7Y"
      },
      "execution_count": 94,
      "outputs": []
    },
    {
      "cell_type": "markdown",
      "source": [
        "#Parameter Initialization"
      ],
      "metadata": {
        "id": "uc8cwxV5SRwu"
      }
    },
    {
      "cell_type": "code",
      "source": [
        "n_samples, n_features = X.shape\n",
        "W = torch.rand(n_features)\n",
        "bias = 0\n",
        "n_iters = 100\n",
        "learning_rate = 0.001"
      ],
      "metadata": {
        "id": "Tfqm598Z-tmJ"
      },
      "execution_count": 95,
      "outputs": []
    },
    {
      "cell_type": "markdown",
      "source": [
        "#Calling the train_perceptron Function\n"
      ],
      "metadata": {
        "id": "7r3UNTcVS5a1"
      }
    },
    {
      "cell_type": "code",
      "source": [
        "W = train_perceptron(W,n_iters,learning_rate, X, Y)"
      ],
      "metadata": {
        "id": "SernRhAhS3I9"
      },
      "execution_count": 96,
      "outputs": []
    },
    {
      "cell_type": "code",
      "source": [
        "#Printing weights and biases\n",
        "print(W)"
      ],
      "metadata": {
        "colab": {
          "base_uri": "https://localhost:8080/"
        },
        "id": "zJryRJq5RJqK",
        "outputId": "01edff9c-475f-4e38-a071-ca462212f91a"
      },
      "execution_count": 97,
      "outputs": [
        {
          "output_type": "stream",
          "name": "stdout",
          "text": [
            "tensor([ 0.9433, -0.2913,  0.2915])\n"
          ]
        }
      ]
    },
    {
      "cell_type": "markdown",
      "source": [
        "#Graph after training."
      ],
      "metadata": {
        "id": "8iR8mlNnYufW"
      }
    },
    {
      "cell_type": "code",
      "source": [
        "x = np.linspace(1,20,100)\n",
        "y1 = -(W[0].item()/W[1].item())*x - (W[2].item()/W[1].item())\n",
        "plt.plot(x, y1, '-r', label='W')\n",
        "plt.title('Graph of W after training')\n",
        "plt.xlabel('x', color='#1C2833')\n",
        "plt.ylabel('y', color='#1C2833')\n",
        "plt.legend(loc='upper left')\n",
        "plt.scatter(D1[:,0], D1[:,1])\n",
        "plt.scatter(D2[:,0], D2[:,1])\n",
        "plt.show()\n"
      ],
      "metadata": {
        "id": "Lb_slWYZ-1Fd",
        "colab": {
          "base_uri": "https://localhost:8080/",
          "height": 295
        },
        "outputId": "59763ef0-d42c-4019-a367-3f0423d83513"
      },
      "execution_count": 98,
      "outputs": [
        {
          "output_type": "display_data",
          "data": {
            "text/plain": [
              "<Figure size 432x288 with 1 Axes>"
            ],
            "image/png": "[encoded data removed]"
          },
          "metadata": {
            "needs_background": "light"
          }
        }
      ]
    }
  ]
}